{
  "nbformat": 4,
  "nbformat_minor": 0,
  "metadata": {
    "colab": {
      "name": "Initial_Regression.ipynb",
      "provenance": [],
      "collapsed_sections": []
    },
    "kernelspec": {
      "name": "python3",
      "display_name": "Python 3"
    },
    "language_info": {
      "name": "python"
    }
  },
  "cells": [
    {
      "cell_type": "markdown",
      "metadata": {
        "id": "bnqArWvJSJ0v"
      },
      "source": [
        "Code for \"Regression on Initial DAG\""
      ]
    },
    {
      "cell_type": "markdown",
      "metadata": {
        "id": "hYdb3B1boXsW"
      },
      "source": [
        "From the textbook: https://github.com/jrfiedler/causal_inference_python_code/blob/master/chapter12.ipynb"
      ]
    },
    {
      "cell_type": "code",
      "metadata": {
        "id": "1UYVEdv8b6LH"
      },
      "source": [
        "import pandas as pd\n",
        "import numpy as np\n",
        "from sklearn.preprocessing import LabelEncoder\n",
        "import statsmodels.api as sm\n",
        "from collections import OrderedDict\n",
        "import matplotlib.pyplot as plt\n"
      ],
      "execution_count": 20,
      "outputs": []
    },
    {
      "cell_type": "code",
      "metadata": {
        "colab": {
          "base_uri": "https://localhost:8080/",
          "height": 215
        },
        "id": "xtxxbES9baXo",
        "outputId": "5573bec6-c58d-48b4-dfbf-6829eb449da8"
      },
      "source": [
        "url = 'https://raw.githubusercontent.com/sarahyurick/datasets/master/alc_merged.csv'\n",
        "data = pd.read_csv(url)\n",
        "data.head()"
      ],
      "execution_count": 21,
      "outputs": [
        {
          "output_type": "execute_result",
          "data": {
            "text/html": [
              "<div>\n",
              "<style scoped>\n",
              "    .dataframe tbody tr th:only-of-type {\n",
              "        vertical-align: middle;\n",
              "    }\n",
              "\n",
              "    .dataframe tbody tr th {\n",
              "        vertical-align: top;\n",
              "    }\n",
              "\n",
              "    .dataframe thead th {\n",
              "        text-align: right;\n",
              "    }\n",
              "</style>\n",
              "<table border=\"1\" class=\"dataframe\">\n",
              "  <thead>\n",
              "    <tr style=\"text-align: right;\">\n",
              "      <th></th>\n",
              "      <th>school</th>\n",
              "      <th>sex</th>\n",
              "      <th>age</th>\n",
              "      <th>address</th>\n",
              "      <th>famsize</th>\n",
              "      <th>Pstatus</th>\n",
              "      <th>Medu</th>\n",
              "      <th>Fedu</th>\n",
              "      <th>Mjob</th>\n",
              "      <th>Fjob</th>\n",
              "      <th>reason</th>\n",
              "      <th>guardian</th>\n",
              "      <th>traveltime</th>\n",
              "      <th>studytime</th>\n",
              "      <th>failures</th>\n",
              "      <th>schoolsup</th>\n",
              "      <th>famsup</th>\n",
              "      <th>paid</th>\n",
              "      <th>activities</th>\n",
              "      <th>nursery</th>\n",
              "      <th>higher</th>\n",
              "      <th>internet</th>\n",
              "      <th>romantic</th>\n",
              "      <th>famrel</th>\n",
              "      <th>freetime</th>\n",
              "      <th>goout</th>\n",
              "      <th>Dalc</th>\n",
              "      <th>Walc</th>\n",
              "      <th>health</th>\n",
              "      <th>absences</th>\n",
              "      <th>G1</th>\n",
              "      <th>G2</th>\n",
              "      <th>G3</th>\n",
              "    </tr>\n",
              "  </thead>\n",
              "  <tbody>\n",
              "    <tr>\n",
              "      <th>0</th>\n",
              "      <td>GP</td>\n",
              "      <td>F</td>\n",
              "      <td>18</td>\n",
              "      <td>U</td>\n",
              "      <td>GT3</td>\n",
              "      <td>A</td>\n",
              "      <td>4</td>\n",
              "      <td>4</td>\n",
              "      <td>at_home</td>\n",
              "      <td>teacher</td>\n",
              "      <td>course</td>\n",
              "      <td>mother</td>\n",
              "      <td>2</td>\n",
              "      <td>2</td>\n",
              "      <td>0</td>\n",
              "      <td>yes</td>\n",
              "      <td>no</td>\n",
              "      <td>no</td>\n",
              "      <td>no</td>\n",
              "      <td>yes</td>\n",
              "      <td>yes</td>\n",
              "      <td>no</td>\n",
              "      <td>no</td>\n",
              "      <td>4</td>\n",
              "      <td>3</td>\n",
              "      <td>4</td>\n",
              "      <td>1</td>\n",
              "      <td>1</td>\n",
              "      <td>3</td>\n",
              "      <td>6</td>\n",
              "      <td>5</td>\n",
              "      <td>6</td>\n",
              "      <td>6</td>\n",
              "    </tr>\n",
              "    <tr>\n",
              "      <th>1</th>\n",
              "      <td>GP</td>\n",
              "      <td>F</td>\n",
              "      <td>17</td>\n",
              "      <td>U</td>\n",
              "      <td>GT3</td>\n",
              "      <td>T</td>\n",
              "      <td>1</td>\n",
              "      <td>1</td>\n",
              "      <td>at_home</td>\n",
              "      <td>other</td>\n",
              "      <td>course</td>\n",
              "      <td>father</td>\n",
              "      <td>1</td>\n",
              "      <td>2</td>\n",
              "      <td>0</td>\n",
              "      <td>no</td>\n",
              "      <td>yes</td>\n",
              "      <td>no</td>\n",
              "      <td>no</td>\n",
              "      <td>no</td>\n",
              "      <td>yes</td>\n",
              "      <td>yes</td>\n",
              "      <td>no</td>\n",
              "      <td>5</td>\n",
              "      <td>3</td>\n",
              "      <td>3</td>\n",
              "      <td>1</td>\n",
              "      <td>1</td>\n",
              "      <td>3</td>\n",
              "      <td>4</td>\n",
              "      <td>5</td>\n",
              "      <td>5</td>\n",
              "      <td>6</td>\n",
              "    </tr>\n",
              "    <tr>\n",
              "      <th>2</th>\n",
              "      <td>GP</td>\n",
              "      <td>F</td>\n",
              "      <td>15</td>\n",
              "      <td>U</td>\n",
              "      <td>LE3</td>\n",
              "      <td>T</td>\n",
              "      <td>1</td>\n",
              "      <td>1</td>\n",
              "      <td>at_home</td>\n",
              "      <td>other</td>\n",
              "      <td>other</td>\n",
              "      <td>mother</td>\n",
              "      <td>1</td>\n",
              "      <td>2</td>\n",
              "      <td>3</td>\n",
              "      <td>yes</td>\n",
              "      <td>no</td>\n",
              "      <td>yes</td>\n",
              "      <td>no</td>\n",
              "      <td>yes</td>\n",
              "      <td>yes</td>\n",
              "      <td>yes</td>\n",
              "      <td>no</td>\n",
              "      <td>4</td>\n",
              "      <td>3</td>\n",
              "      <td>2</td>\n",
              "      <td>2</td>\n",
              "      <td>3</td>\n",
              "      <td>3</td>\n",
              "      <td>10</td>\n",
              "      <td>7</td>\n",
              "      <td>8</td>\n",
              "      <td>10</td>\n",
              "    </tr>\n",
              "    <tr>\n",
              "      <th>3</th>\n",
              "      <td>GP</td>\n",
              "      <td>F</td>\n",
              "      <td>15</td>\n",
              "      <td>U</td>\n",
              "      <td>GT3</td>\n",
              "      <td>T</td>\n",
              "      <td>4</td>\n",
              "      <td>2</td>\n",
              "      <td>health</td>\n",
              "      <td>services</td>\n",
              "      <td>home</td>\n",
              "      <td>mother</td>\n",
              "      <td>1</td>\n",
              "      <td>3</td>\n",
              "      <td>0</td>\n",
              "      <td>no</td>\n",
              "      <td>yes</td>\n",
              "      <td>yes</td>\n",
              "      <td>yes</td>\n",
              "      <td>yes</td>\n",
              "      <td>yes</td>\n",
              "      <td>yes</td>\n",
              "      <td>yes</td>\n",
              "      <td>3</td>\n",
              "      <td>2</td>\n",
              "      <td>2</td>\n",
              "      <td>1</td>\n",
              "      <td>1</td>\n",
              "      <td>5</td>\n",
              "      <td>2</td>\n",
              "      <td>15</td>\n",
              "      <td>14</td>\n",
              "      <td>15</td>\n",
              "    </tr>\n",
              "    <tr>\n",
              "      <th>4</th>\n",
              "      <td>GP</td>\n",
              "      <td>F</td>\n",
              "      <td>16</td>\n",
              "      <td>U</td>\n",
              "      <td>GT3</td>\n",
              "      <td>T</td>\n",
              "      <td>3</td>\n",
              "      <td>3</td>\n",
              "      <td>other</td>\n",
              "      <td>other</td>\n",
              "      <td>home</td>\n",
              "      <td>father</td>\n",
              "      <td>1</td>\n",
              "      <td>2</td>\n",
              "      <td>0</td>\n",
              "      <td>no</td>\n",
              "      <td>yes</td>\n",
              "      <td>yes</td>\n",
              "      <td>no</td>\n",
              "      <td>yes</td>\n",
              "      <td>yes</td>\n",
              "      <td>no</td>\n",
              "      <td>no</td>\n",
              "      <td>4</td>\n",
              "      <td>3</td>\n",
              "      <td>2</td>\n",
              "      <td>1</td>\n",
              "      <td>2</td>\n",
              "      <td>5</td>\n",
              "      <td>4</td>\n",
              "      <td>6</td>\n",
              "      <td>10</td>\n",
              "      <td>10</td>\n",
              "    </tr>\n",
              "  </tbody>\n",
              "</table>\n",
              "</div>"
            ],
            "text/plain": [
              "  school sex  age address famsize Pstatus  ...  Walc  health absences  G1  G2  G3\n",
              "0     GP   F   18       U     GT3       A  ...     1       3        6   5   6   6\n",
              "1     GP   F   17       U     GT3       T  ...     1       3        4   5   5   6\n",
              "2     GP   F   15       U     LE3       T  ...     3       3       10   7   8  10\n",
              "3     GP   F   15       U     GT3       T  ...     1       5        2  15  14  15\n",
              "4     GP   F   16       U     GT3       T  ...     2       5        4   6  10  10\n",
              "\n",
              "[5 rows x 33 columns]"
            ]
          },
          "metadata": {
            "tags": []
          },
          "execution_count": 21
        }
      ]
    },
    {
      "cell_type": "code",
      "metadata": {
        "colab": {
          "base_uri": "https://localhost:8080/"
        },
        "id": "VyGkO7Nibqtw",
        "outputId": "212bc279-205c-4655-d394-76a071ad9f9e"
      },
      "source": [
        "drop_col = ['school', 'age', 'famsize', 'Pstatus', 'Medu', 'Fedu', 'Mjob', 'Fjob', 'reason', 'guardian', 'traveltime',\n",
        "            'nursery']\n",
        "data = data.drop(columns=drop_col)\n",
        "\n",
        "# handle non-numeric features\n",
        "struct_data = data.copy()\n",
        "non_numeric_columns = list(struct_data.select_dtypes(exclude=[np.number]).columns)\n",
        "# print(non_numeric_columns)\n",
        "le = LabelEncoder()\n",
        "for col in non_numeric_columns:\n",
        "    struct_data[col] = le.fit_transform(struct_data[col])\n",
        "\n",
        "data = struct_data\n",
        "data.columns"
      ],
      "execution_count": 22,
      "outputs": [
        {
          "output_type": "execute_result",
          "data": {
            "text/plain": [
              "Index(['sex', 'address', 'studytime', 'failures', 'schoolsup', 'famsup',\n",
              "       'paid', 'activities', 'higher', 'internet', 'romantic', 'famrel',\n",
              "       'freetime', 'goout', 'Dalc', 'Walc', 'health', 'absences', 'G1', 'G2',\n",
              "       'G3'],\n",
              "      dtype='object')"
            ]
          },
          "metadata": {
            "tags": []
          },
          "execution_count": 22
        }
      ]
    },
    {
      "cell_type": "code",
      "metadata": {
        "colab": {
          "base_uri": "https://localhost:8080/"
        },
        "id": "PeczrN10cc4g",
        "outputId": "f210937f-b2c3-4b54-f0eb-632c66f1dcd9"
      },
      "source": [
        "print(data['Dalc'].unique())\n",
        "print(data['G3'].unique())"
      ],
      "execution_count": 23,
      "outputs": [
        {
          "output_type": "stream",
          "text": [
            "[1 2 5 3 4]\n",
            "[ 6 10 15 11 19  9 12 14 16  5  8 17 18 13 20  7  0  4]\n"
          ],
          "name": "stdout"
        }
      ]
    },
    {
      "cell_type": "code",
      "metadata": {
        "colab": {
          "base_uri": "https://localhost:8080/"
        },
        "id": "xOliCGh1b4rx",
        "outputId": "238ca4fa-470b-4a8e-e60e-43a342e02ce8"
      },
      "source": [
        "data['constant'] = 1\n",
        "\n",
        "ave_grade_low_alc = data.loc[(data.Dalc == 1) | (data.Dalc == 2)].G3.mean()\n",
        "ave_grade_high_alc = data.loc[(data.Dalc == 3) | (data.Dalc == 4) | (data.Dalc == 5)].G3.mean()\n",
        "\n",
        "print(\"Average grade\")\n",
        "print(\"      drinkers: {:>0.1f}\".format(ave_grade_high_alc))\n",
        "print(\"  non-drinkers: {:>0.1f}\".format(ave_grade_low_alc))"
      ],
      "execution_count": 24,
      "outputs": [
        {
          "output_type": "stream",
          "text": [
            "Average grade\n",
            "      drinkers: 10.4\n",
            "  non-drinkers: 10.8\n"
          ],
          "name": "stdout"
        }
      ]
    },
    {
      "cell_type": "code",
      "metadata": {
        "colab": {
          "base_uri": "https://localhost:8080/",
          "height": 78
        },
        "id": "olOlibCzdKP7",
        "outputId": "a001bb2a-14ee-4eb5-d45f-4145a8103497"
      },
      "source": [
        "ols = sm.OLS(data.G3, data[['constant', 'Dalc']])\n",
        "res = ols.fit()\n",
        "res.summary().tables[1]"
      ],
      "execution_count": 25,
      "outputs": [
        {
          "output_type": "execute_result",
          "data": {
            "text/html": [
              "<table class=\"simpletable\">\n",
              "<tr>\n",
              "      <td></td>        <th>coef</th>     <th>std err</th>      <th>t</th>      <th>P>|t|</th>  <th>[0.025</th>    <th>0.975]</th>  \n",
              "</tr>\n",
              "<tr>\n",
              "  <th>constant</th> <td>   11.2266</td> <td>    0.304</td> <td>   36.940</td> <td> 0.000</td> <td>   10.630</td> <td>   11.823</td>\n",
              "</tr>\n",
              "<tr>\n",
              "  <th>Dalc</th>     <td>   -0.3334</td> <td>    0.172</td> <td>   -1.938</td> <td> 0.053</td> <td>   -0.671</td> <td>    0.004</td>\n",
              "</tr>\n",
              "</table>"
            ],
            "text/plain": [
              "<class 'statsmodels.iolib.table.SimpleTable'>"
            ]
          },
          "metadata": {
            "tags": []
          },
          "execution_count": 25
        }
      ]
    },
    {
      "cell_type": "code",
      "metadata": {
        "colab": {
          "base_uri": "https://localhost:8080/"
        },
        "id": "Zov8FQ-aeUFF",
        "outputId": "71e9fe65-7d6e-464f-b7d0-6fa638157865"
      },
      "source": [
        "est = res.params.Dalc\n",
        "conf_ints = res.conf_int(alpha=0.05, cols=None)\n",
        "lo, hi = conf_ints[0]['Dalc'], conf_ints[1]['Dalc']\n",
        "\n",
        "print('            estimate   95% C.I.')\n",
        "print('difference   {:>6.2f}   ({:>0.1f}, {:>0.1f})'.format(est, lo, hi))"
      ],
      "execution_count": 26,
      "outputs": [
        {
          "output_type": "stream",
          "text": [
            "            estimate   95% C.I.\n",
            "difference    -0.33   (-0.7, 0.0)\n"
          ],
          "name": "stdout"
        }
      ]
    },
    {
      "cell_type": "code",
      "metadata": {
        "colab": {
          "base_uri": "https://localhost:8080/",
          "height": 215
        },
        "id": "52mPeyjxf8UB",
        "outputId": "30781bda-4f97-4083-9885-f2f5934b232d"
      },
      "source": [
        "data.head()"
      ],
      "execution_count": 27,
      "outputs": [
        {
          "output_type": "execute_result",
          "data": {
            "text/html": [
              "<div>\n",
              "<style scoped>\n",
              "    .dataframe tbody tr th:only-of-type {\n",
              "        vertical-align: middle;\n",
              "    }\n",
              "\n",
              "    .dataframe tbody tr th {\n",
              "        vertical-align: top;\n",
              "    }\n",
              "\n",
              "    .dataframe thead th {\n",
              "        text-align: right;\n",
              "    }\n",
              "</style>\n",
              "<table border=\"1\" class=\"dataframe\">\n",
              "  <thead>\n",
              "    <tr style=\"text-align: right;\">\n",
              "      <th></th>\n",
              "      <th>sex</th>\n",
              "      <th>address</th>\n",
              "      <th>studytime</th>\n",
              "      <th>failures</th>\n",
              "      <th>schoolsup</th>\n",
              "      <th>famsup</th>\n",
              "      <th>paid</th>\n",
              "      <th>activities</th>\n",
              "      <th>higher</th>\n",
              "      <th>internet</th>\n",
              "      <th>romantic</th>\n",
              "      <th>famrel</th>\n",
              "      <th>freetime</th>\n",
              "      <th>goout</th>\n",
              "      <th>Dalc</th>\n",
              "      <th>Walc</th>\n",
              "      <th>health</th>\n",
              "      <th>absences</th>\n",
              "      <th>G1</th>\n",
              "      <th>G2</th>\n",
              "      <th>G3</th>\n",
              "      <th>constant</th>\n",
              "    </tr>\n",
              "  </thead>\n",
              "  <tbody>\n",
              "    <tr>\n",
              "      <th>0</th>\n",
              "      <td>0</td>\n",
              "      <td>1</td>\n",
              "      <td>2</td>\n",
              "      <td>0</td>\n",
              "      <td>1</td>\n",
              "      <td>0</td>\n",
              "      <td>0</td>\n",
              "      <td>0</td>\n",
              "      <td>1</td>\n",
              "      <td>0</td>\n",
              "      <td>0</td>\n",
              "      <td>4</td>\n",
              "      <td>3</td>\n",
              "      <td>4</td>\n",
              "      <td>1</td>\n",
              "      <td>1</td>\n",
              "      <td>3</td>\n",
              "      <td>6</td>\n",
              "      <td>5</td>\n",
              "      <td>6</td>\n",
              "      <td>6</td>\n",
              "      <td>1</td>\n",
              "    </tr>\n",
              "    <tr>\n",
              "      <th>1</th>\n",
              "      <td>0</td>\n",
              "      <td>1</td>\n",
              "      <td>2</td>\n",
              "      <td>0</td>\n",
              "      <td>0</td>\n",
              "      <td>1</td>\n",
              "      <td>0</td>\n",
              "      <td>0</td>\n",
              "      <td>1</td>\n",
              "      <td>1</td>\n",
              "      <td>0</td>\n",
              "      <td>5</td>\n",
              "      <td>3</td>\n",
              "      <td>3</td>\n",
              "      <td>1</td>\n",
              "      <td>1</td>\n",
              "      <td>3</td>\n",
              "      <td>4</td>\n",
              "      <td>5</td>\n",
              "      <td>5</td>\n",
              "      <td>6</td>\n",
              "      <td>1</td>\n",
              "    </tr>\n",
              "    <tr>\n",
              "      <th>2</th>\n",
              "      <td>0</td>\n",
              "      <td>1</td>\n",
              "      <td>2</td>\n",
              "      <td>3</td>\n",
              "      <td>1</td>\n",
              "      <td>0</td>\n",
              "      <td>1</td>\n",
              "      <td>0</td>\n",
              "      <td>1</td>\n",
              "      <td>1</td>\n",
              "      <td>0</td>\n",
              "      <td>4</td>\n",
              "      <td>3</td>\n",
              "      <td>2</td>\n",
              "      <td>2</td>\n",
              "      <td>3</td>\n",
              "      <td>3</td>\n",
              "      <td>10</td>\n",
              "      <td>7</td>\n",
              "      <td>8</td>\n",
              "      <td>10</td>\n",
              "      <td>1</td>\n",
              "    </tr>\n",
              "    <tr>\n",
              "      <th>3</th>\n",
              "      <td>0</td>\n",
              "      <td>1</td>\n",
              "      <td>3</td>\n",
              "      <td>0</td>\n",
              "      <td>0</td>\n",
              "      <td>1</td>\n",
              "      <td>1</td>\n",
              "      <td>1</td>\n",
              "      <td>1</td>\n",
              "      <td>1</td>\n",
              "      <td>1</td>\n",
              "      <td>3</td>\n",
              "      <td>2</td>\n",
              "      <td>2</td>\n",
              "      <td>1</td>\n",
              "      <td>1</td>\n",
              "      <td>5</td>\n",
              "      <td>2</td>\n",
              "      <td>15</td>\n",
              "      <td>14</td>\n",
              "      <td>15</td>\n",
              "      <td>1</td>\n",
              "    </tr>\n",
              "    <tr>\n",
              "      <th>4</th>\n",
              "      <td>0</td>\n",
              "      <td>1</td>\n",
              "      <td>2</td>\n",
              "      <td>0</td>\n",
              "      <td>0</td>\n",
              "      <td>1</td>\n",
              "      <td>1</td>\n",
              "      <td>0</td>\n",
              "      <td>1</td>\n",
              "      <td>0</td>\n",
              "      <td>0</td>\n",
              "      <td>4</td>\n",
              "      <td>3</td>\n",
              "      <td>2</td>\n",
              "      <td>1</td>\n",
              "      <td>2</td>\n",
              "      <td>5</td>\n",
              "      <td>4</td>\n",
              "      <td>6</td>\n",
              "      <td>10</td>\n",
              "      <td>10</td>\n",
              "      <td>1</td>\n",
              "    </tr>\n",
              "  </tbody>\n",
              "</table>\n",
              "</div>"
            ],
            "text/plain": [
              "   sex  address  studytime  failures  schoolsup  ...  absences  G1  G2  G3  constant\n",
              "0    0        1          2         0          1  ...         6   5   6   6         1\n",
              "1    0        1          2         0          0  ...         4   5   5   6         1\n",
              "2    0        1          2         3          1  ...        10   7   8  10         1\n",
              "3    0        1          3         0          0  ...         2  15  14  15         1\n",
              "4    0        1          2         0          0  ...         4   6  10  10         1\n",
              "\n",
              "[5 rows x 22 columns]"
            ]
          },
          "metadata": {
            "tags": []
          },
          "execution_count": 27
        }
      ]
    },
    {
      "cell_type": "code",
      "metadata": {
        "colab": {
          "base_uri": "https://localhost:8080/",
          "height": 358
        },
        "id": "tYSKIkJiedPc",
        "outputId": "206c8eae-ecd6-45ce-ac6a-fa0aa40d3615"
      },
      "source": [
        "\"\"\" 'sex', 'address', 'studytime', 'failures', 'schoolsup', 'famsup',\n",
        "       'paid', 'activities', 'higher', 'internet', 'romantic', 'famrel',\n",
        "       'freetime', 'goout', 'Dalc', 'Walc', 'health', 'absences', 'G1', 'G2',\n",
        "       'G3'\n",
        "       \"\"\"\n",
        "\n",
        "summaries = OrderedDict((\n",
        "    ('sex', lambda x: (100 * (x == 0)).mean()),\n",
        "    ('address', lambda x: (100 * (x == 0)).mean()),\n",
        "    ('studytime', 'mean'),\n",
        "    ('failures', 'mean'),\n",
        "    ('schoolsup', lambda x: (100 * (x == 0)).mean()),\n",
        "    ('famsup', lambda x: (100 * (x == 0)).mean()),\n",
        "    ('paid', lambda x: (100 * (x == 0)).mean()),\n",
        "    ('activities', lambda x: (100 * (x == 0)).mean()),\n",
        "    ('higher', lambda x: (100 * (x == 0)).mean()),\n",
        "    ('internet', lambda x: (100 * (x == 0)).mean()),\n",
        "    ('romantic', lambda x: 100 * x.mean()),\n",
        "    ('famrel', 'mean'), \n",
        "    ('freetime', 'mean'), \n",
        "    ('goout', 'mean'), \n",
        "    ('health', 'mean'), \n",
        "    ('absences', 'mean')\n",
        "))\n",
        "\n",
        "table = data.groupby('Dalc').agg(summaries)\n",
        "table.sort_index(ascending=False, inplace=True)\n",
        "table = table.T\n",
        "\n",
        "table.index = [\n",
        "    'sex, % female',\n",
        "    'address, % rural',\n",
        "    'studytime, mean',\n",
        "    'failures, mean',\n",
        "    'schoolsup, % no schoolsup',\n",
        "    'famsup, % no famsup',\n",
        "    'paid, % no paid',\n",
        "    'activities, % no activities',\n",
        "    'higher, % no higher',\n",
        "    'internet, % no internet',\n",
        "    'romantic, % no romantic', \n",
        "    'famrel, mean', \n",
        "    'freetime, mean', \n",
        "    'goout, mean', \n",
        "    'health, mean', \n",
        "    'absences, mean'\n",
        "]\n",
        "\n",
        "table.style.format(\"{:>0.1f}\")"
      ],
      "execution_count": 28,
      "outputs": [
        {
          "output_type": "execute_result",
          "data": {
            "text/html": [
              "<style  type=\"text/css\" >\n",
              "</style><table id=\"T_c8ebbd7e_af3b_11eb_9005_0242ac1c0002\" ><thead>    <tr>        <th class=\"index_name level0\" >Dalc</th>        <th class=\"col_heading level0 col0\" >5</th>        <th class=\"col_heading level0 col1\" >4</th>        <th class=\"col_heading level0 col2\" >3</th>        <th class=\"col_heading level0 col3\" >2</th>        <th class=\"col_heading level0 col4\" >1</th>    </tr></thead><tbody>\n",
              "                <tr>\n",
              "                        <th id=\"T_c8ebbd7e_af3b_11eb_9005_0242ac1c0002level0_row0\" class=\"row_heading level0 row0\" >sex, % female</th>\n",
              "                        <td id=\"T_c8ebbd7e_af3b_11eb_9005_0242ac1c0002row0_col0\" class=\"data row0 col0\" >11.8</td>\n",
              "                        <td id=\"T_c8ebbd7e_af3b_11eb_9005_0242ac1c0002row0_col1\" class=\"data row0 col1\" >38.9</td>\n",
              "                        <td id=\"T_c8ebbd7e_af3b_11eb_9005_0242ac1c0002row0_col2\" class=\"data row0 col2\" >24.4</td>\n",
              "                        <td id=\"T_c8ebbd7e_af3b_11eb_9005_0242ac1c0002row0_col3\" class=\"data row0 col3\" >47.5</td>\n",
              "                        <td id=\"T_c8ebbd7e_af3b_11eb_9005_0242ac1c0002row0_col4\" class=\"data row0 col4\" >67.8</td>\n",
              "            </tr>\n",
              "            <tr>\n",
              "                        <th id=\"T_c8ebbd7e_af3b_11eb_9005_0242ac1c0002level0_row1\" class=\"row_heading level0 row1\" >address, % rural</th>\n",
              "                        <td id=\"T_c8ebbd7e_af3b_11eb_9005_0242ac1c0002row1_col0\" class=\"data row1 col0\" >29.4</td>\n",
              "                        <td id=\"T_c8ebbd7e_af3b_11eb_9005_0242ac1c0002row1_col1\" class=\"data row1 col1\" >27.8</td>\n",
              "                        <td id=\"T_c8ebbd7e_af3b_11eb_9005_0242ac1c0002row1_col2\" class=\"data row1 col2\" >44.4</td>\n",
              "                        <td id=\"T_c8ebbd7e_af3b_11eb_9005_0242ac1c0002row1_col3\" class=\"data row1 col3\" >32.8</td>\n",
              "                        <td id=\"T_c8ebbd7e_af3b_11eb_9005_0242ac1c0002row1_col4\" class=\"data row1 col4\" >28.5</td>\n",
              "            </tr>\n",
              "            <tr>\n",
              "                        <th id=\"T_c8ebbd7e_af3b_11eb_9005_0242ac1c0002level0_row2\" class=\"row_heading level0 row2\" >studytime, mean</th>\n",
              "                        <td id=\"T_c8ebbd7e_af3b_11eb_9005_0242ac1c0002row2_col0\" class=\"data row2 col0\" >1.7</td>\n",
              "                        <td id=\"T_c8ebbd7e_af3b_11eb_9005_0242ac1c0002row2_col1\" class=\"data row2 col1\" >1.7</td>\n",
              "                        <td id=\"T_c8ebbd7e_af3b_11eb_9005_0242ac1c0002row2_col2\" class=\"data row2 col2\" >1.6</td>\n",
              "                        <td id=\"T_c8ebbd7e_af3b_11eb_9005_0242ac1c0002row2_col3\" class=\"data row2 col3\" >1.8</td>\n",
              "                        <td id=\"T_c8ebbd7e_af3b_11eb_9005_0242ac1c0002row2_col4\" class=\"data row2 col4\" >2.0</td>\n",
              "            </tr>\n",
              "            <tr>\n",
              "                        <th id=\"T_c8ebbd7e_af3b_11eb_9005_0242ac1c0002level0_row3\" class=\"row_heading level0 row3\" >failures, mean</th>\n",
              "                        <td id=\"T_c8ebbd7e_af3b_11eb_9005_0242ac1c0002row3_col0\" class=\"data row3 col0\" >0.4</td>\n",
              "                        <td id=\"T_c8ebbd7e_af3b_11eb_9005_0242ac1c0002row3_col1\" class=\"data row3 col1\" >0.4</td>\n",
              "                        <td id=\"T_c8ebbd7e_af3b_11eb_9005_0242ac1c0002row3_col2\" class=\"data row3 col2\" >0.5</td>\n",
              "                        <td id=\"T_c8ebbd7e_af3b_11eb_9005_0242ac1c0002row3_col3\" class=\"data row3 col3\" >0.4</td>\n",
              "                        <td id=\"T_c8ebbd7e_af3b_11eb_9005_0242ac1c0002row3_col4\" class=\"data row3 col4\" >0.3</td>\n",
              "            </tr>\n",
              "            <tr>\n",
              "                        <th id=\"T_c8ebbd7e_af3b_11eb_9005_0242ac1c0002level0_row4\" class=\"row_heading level0 row4\" >schoolsup, % no schoolsup</th>\n",
              "                        <td id=\"T_c8ebbd7e_af3b_11eb_9005_0242ac1c0002row4_col0\" class=\"data row4 col0\" >88.2</td>\n",
              "                        <td id=\"T_c8ebbd7e_af3b_11eb_9005_0242ac1c0002row4_col1\" class=\"data row4 col1\" >88.9</td>\n",
              "                        <td id=\"T_c8ebbd7e_af3b_11eb_9005_0242ac1c0002row4_col2\" class=\"data row4 col2\" >95.6</td>\n",
              "                        <td id=\"T_c8ebbd7e_af3b_11eb_9005_0242ac1c0002row4_col3\" class=\"data row4 col3\" >91.0</td>\n",
              "                        <td id=\"T_c8ebbd7e_af3b_11eb_9005_0242ac1c0002row4_col4\" class=\"data row4 col4\" >88.5</td>\n",
              "            </tr>\n",
              "            <tr>\n",
              "                        <th id=\"T_c8ebbd7e_af3b_11eb_9005_0242ac1c0002level0_row5\" class=\"row_heading level0 row5\" >famsup, % no famsup</th>\n",
              "                        <td id=\"T_c8ebbd7e_af3b_11eb_9005_0242ac1c0002row5_col0\" class=\"data row5 col0\" >17.6</td>\n",
              "                        <td id=\"T_c8ebbd7e_af3b_11eb_9005_0242ac1c0002row5_col1\" class=\"data row5 col1\" >50.0</td>\n",
              "                        <td id=\"T_c8ebbd7e_af3b_11eb_9005_0242ac1c0002row5_col2\" class=\"data row5 col2\" >57.8</td>\n",
              "                        <td id=\"T_c8ebbd7e_af3b_11eb_9005_0242ac1c0002row5_col3\" class=\"data row5 col3\" >38.5</td>\n",
              "                        <td id=\"T_c8ebbd7e_af3b_11eb_9005_0242ac1c0002row5_col4\" class=\"data row5 col4\" >38.5</td>\n",
              "            </tr>\n",
              "            <tr>\n",
              "                        <th id=\"T_c8ebbd7e_af3b_11eb_9005_0242ac1c0002level0_row6\" class=\"row_heading level0 row6\" >paid, % no paid</th>\n",
              "                        <td id=\"T_c8ebbd7e_af3b_11eb_9005_0242ac1c0002row6_col0\" class=\"data row6 col0\" >76.5</td>\n",
              "                        <td id=\"T_c8ebbd7e_af3b_11eb_9005_0242ac1c0002row6_col1\" class=\"data row6 col1\" >50.0</td>\n",
              "                        <td id=\"T_c8ebbd7e_af3b_11eb_9005_0242ac1c0002row6_col2\" class=\"data row6 col2\" >77.8</td>\n",
              "                        <td id=\"T_c8ebbd7e_af3b_11eb_9005_0242ac1c0002row6_col3\" class=\"data row6 col3\" >66.4</td>\n",
              "                        <td id=\"T_c8ebbd7e_af3b_11eb_9005_0242ac1c0002row6_col4\" class=\"data row6 col4\" >72.0</td>\n",
              "            </tr>\n",
              "            <tr>\n",
              "                        <th id=\"T_c8ebbd7e_af3b_11eb_9005_0242ac1c0002level0_row7\" class=\"row_heading level0 row7\" >activities, % no activities</th>\n",
              "                        <td id=\"T_c8ebbd7e_af3b_11eb_9005_0242ac1c0002row7_col0\" class=\"data row7 col0\" >29.4</td>\n",
              "                        <td id=\"T_c8ebbd7e_af3b_11eb_9005_0242ac1c0002row7_col1\" class=\"data row7 col1\" >55.6</td>\n",
              "                        <td id=\"T_c8ebbd7e_af3b_11eb_9005_0242ac1c0002row7_col2\" class=\"data row7 col2\" >57.8</td>\n",
              "                        <td id=\"T_c8ebbd7e_af3b_11eb_9005_0242ac1c0002row7_col3\" class=\"data row7 col3\" >54.1</td>\n",
              "                        <td id=\"T_c8ebbd7e_af3b_11eb_9005_0242ac1c0002row7_col4\" class=\"data row7 col4\" >51.3</td>\n",
              "            </tr>\n",
              "            <tr>\n",
              "                        <th id=\"T_c8ebbd7e_af3b_11eb_9005_0242ac1c0002level0_row8\" class=\"row_heading level0 row8\" >higher, % no higher</th>\n",
              "                        <td id=\"T_c8ebbd7e_af3b_11eb_9005_0242ac1c0002row8_col0\" class=\"data row8 col0\" >29.4</td>\n",
              "                        <td id=\"T_c8ebbd7e_af3b_11eb_9005_0242ac1c0002row8_col1\" class=\"data row8 col1\" >16.7</td>\n",
              "                        <td id=\"T_c8ebbd7e_af3b_11eb_9005_0242ac1c0002row8_col2\" class=\"data row8 col2\" >13.3</td>\n",
              "                        <td id=\"T_c8ebbd7e_af3b_11eb_9005_0242ac1c0002row8_col3\" class=\"data row8 col3\" >14.8</td>\n",
              "                        <td id=\"T_c8ebbd7e_af3b_11eb_9005_0242ac1c0002row8_col4\" class=\"data row8 col4\" >8.5</td>\n",
              "            </tr>\n",
              "            <tr>\n",
              "                        <th id=\"T_c8ebbd7e_af3b_11eb_9005_0242ac1c0002level0_row9\" class=\"row_heading level0 row9\" >internet, % no internet</th>\n",
              "                        <td id=\"T_c8ebbd7e_af3b_11eb_9005_0242ac1c0002row9_col0\" class=\"data row9 col0\" >11.8</td>\n",
              "                        <td id=\"T_c8ebbd7e_af3b_11eb_9005_0242ac1c0002row9_col1\" class=\"data row9 col1\" >22.2</td>\n",
              "                        <td id=\"T_c8ebbd7e_af3b_11eb_9005_0242ac1c0002row9_col2\" class=\"data row9 col2\" >26.7</td>\n",
              "                        <td id=\"T_c8ebbd7e_af3b_11eb_9005_0242ac1c0002row9_col3\" class=\"data row9 col3\" >23.0</td>\n",
              "                        <td id=\"T_c8ebbd7e_af3b_11eb_9005_0242ac1c0002row9_col4\" class=\"data row9 col4\" >24.3</td>\n",
              "            </tr>\n",
              "            <tr>\n",
              "                        <th id=\"T_c8ebbd7e_af3b_11eb_9005_0242ac1c0002level0_row10\" class=\"row_heading level0 row10\" >romantic, % no romantic</th>\n",
              "                        <td id=\"T_c8ebbd7e_af3b_11eb_9005_0242ac1c0002row10_col0\" class=\"data row10 col0\" >58.8</td>\n",
              "                        <td id=\"T_c8ebbd7e_af3b_11eb_9005_0242ac1c0002row10_col1\" class=\"data row10 col1\" >55.6</td>\n",
              "                        <td id=\"T_c8ebbd7e_af3b_11eb_9005_0242ac1c0002row10_col2\" class=\"data row10 col2\" >24.4</td>\n",
              "                        <td id=\"T_c8ebbd7e_af3b_11eb_9005_0242ac1c0002row10_col3\" class=\"data row10 col3\" >36.9</td>\n",
              "                        <td id=\"T_c8ebbd7e_af3b_11eb_9005_0242ac1c0002row10_col4\" class=\"data row10 col4\" >37.4</td>\n",
              "            </tr>\n",
              "            <tr>\n",
              "                        <th id=\"T_c8ebbd7e_af3b_11eb_9005_0242ac1c0002level0_row11\" class=\"row_heading level0 row11\" >famrel, mean</th>\n",
              "                        <td id=\"T_c8ebbd7e_af3b_11eb_9005_0242ac1c0002row11_col0\" class=\"data row11 col0\" >4.1</td>\n",
              "                        <td id=\"T_c8ebbd7e_af3b_11eb_9005_0242ac1c0002row11_col1\" class=\"data row11 col1\" >3.7</td>\n",
              "                        <td id=\"T_c8ebbd7e_af3b_11eb_9005_0242ac1c0002row11_col2\" class=\"data row11 col2\" >3.8</td>\n",
              "                        <td id=\"T_c8ebbd7e_af3b_11eb_9005_0242ac1c0002row11_col3\" class=\"data row11 col3\" >3.7</td>\n",
              "                        <td id=\"T_c8ebbd7e_af3b_11eb_9005_0242ac1c0002row11_col4\" class=\"data row11 col4\" >4.0</td>\n",
              "            </tr>\n",
              "            <tr>\n",
              "                        <th id=\"T_c8ebbd7e_af3b_11eb_9005_0242ac1c0002level0_row12\" class=\"row_heading level0 row12\" >freetime, mean</th>\n",
              "                        <td id=\"T_c8ebbd7e_af3b_11eb_9005_0242ac1c0002row12_col0\" class=\"data row12 col0\" >3.7</td>\n",
              "                        <td id=\"T_c8ebbd7e_af3b_11eb_9005_0242ac1c0002row12_col1\" class=\"data row12 col1\" >3.2</td>\n",
              "                        <td id=\"T_c8ebbd7e_af3b_11eb_9005_0242ac1c0002row12_col2\" class=\"data row12 col2\" >3.4</td>\n",
              "                        <td id=\"T_c8ebbd7e_af3b_11eb_9005_0242ac1c0002row12_col3\" class=\"data row12 col3\" >3.3</td>\n",
              "                        <td id=\"T_c8ebbd7e_af3b_11eb_9005_0242ac1c0002row12_col4\" class=\"data row12 col4\" >3.1</td>\n",
              "            </tr>\n",
              "            <tr>\n",
              "                        <th id=\"T_c8ebbd7e_af3b_11eb_9005_0242ac1c0002level0_row13\" class=\"row_heading level0 row13\" >goout, mean</th>\n",
              "                        <td id=\"T_c8ebbd7e_af3b_11eb_9005_0242ac1c0002row13_col0\" class=\"data row13 col0\" >4.2</td>\n",
              "                        <td id=\"T_c8ebbd7e_af3b_11eb_9005_0242ac1c0002row13_col1\" class=\"data row13 col1\" >3.8</td>\n",
              "                        <td id=\"T_c8ebbd7e_af3b_11eb_9005_0242ac1c0002row13_col2\" class=\"data row13 col2\" >3.6</td>\n",
              "                        <td id=\"T_c8ebbd7e_af3b_11eb_9005_0242ac1c0002row13_col3\" class=\"data row13 col3\" >3.4</td>\n",
              "                        <td id=\"T_c8ebbd7e_af3b_11eb_9005_0242ac1c0002row13_col4\" class=\"data row13 col4\" >3.0</td>\n",
              "            </tr>\n",
              "            <tr>\n",
              "                        <th id=\"T_c8ebbd7e_af3b_11eb_9005_0242ac1c0002level0_row14\" class=\"row_heading level0 row14\" >health, mean</th>\n",
              "                        <td id=\"T_c8ebbd7e_af3b_11eb_9005_0242ac1c0002row14_col0\" class=\"data row14 col0\" >3.5</td>\n",
              "                        <td id=\"T_c8ebbd7e_af3b_11eb_9005_0242ac1c0002row14_col1\" class=\"data row14 col1\" >3.6</td>\n",
              "                        <td id=\"T_c8ebbd7e_af3b_11eb_9005_0242ac1c0002row14_col2\" class=\"data row14 col2\" >3.9</td>\n",
              "                        <td id=\"T_c8ebbd7e_af3b_11eb_9005_0242ac1c0002row14_col3\" class=\"data row14 col3\" >3.7</td>\n",
              "                        <td id=\"T_c8ebbd7e_af3b_11eb_9005_0242ac1c0002row14_col4\" class=\"data row14 col4\" >3.5</td>\n",
              "            </tr>\n",
              "            <tr>\n",
              "                        <th id=\"T_c8ebbd7e_af3b_11eb_9005_0242ac1c0002level0_row15\" class=\"row_heading level0 row15\" >absences, mean</th>\n",
              "                        <td id=\"T_c8ebbd7e_af3b_11eb_9005_0242ac1c0002row15_col0\" class=\"data row15 col0\" >8.9</td>\n",
              "                        <td id=\"T_c8ebbd7e_af3b_11eb_9005_0242ac1c0002row15_col1\" class=\"data row15 col1\" >7.6</td>\n",
              "                        <td id=\"T_c8ebbd7e_af3b_11eb_9005_0242ac1c0002row15_col2\" class=\"data row15 col2\" >5.3</td>\n",
              "                        <td id=\"T_c8ebbd7e_af3b_11eb_9005_0242ac1c0002row15_col3\" class=\"data row15 col3\" >5.6</td>\n",
              "                        <td id=\"T_c8ebbd7e_af3b_11eb_9005_0242ac1c0002row15_col4\" class=\"data row15 col4\" >4.5</td>\n",
              "            </tr>\n",
              "    </tbody></table>"
            ],
            "text/plain": [
              "<pandas.io.formats.style.Styler at 0x7f7666e600d0>"
            ]
          },
          "metadata": {
            "tags": []
          },
          "execution_count": 28
        }
      ]
    },
    {
      "cell_type": "code",
      "metadata": {
        "id": "eCrLHROyfyDn"
      },
      "source": [
        "for col in ['activities', 'studytime', 'goout', 'health', 'absences']:\n",
        "    data['{}^2'.format(col)] = data[col] * data[col]"
      ],
      "execution_count": 29,
      "outputs": []
    },
    {
      "cell_type": "code",
      "metadata": {
        "id": "O0TMBYbjhd7v"
      },
      "source": [
        "def logit_ip_f(y, X):\n",
        "    \"\"\"\n",
        "    Create the f(y|X) part of IP weights\n",
        "    from logistic regression\n",
        "    \n",
        "    Parameters\n",
        "    ----------\n",
        "    y : Pandas Series\n",
        "    X : Pandas DataFrame\n",
        "    \n",
        "    Returns\n",
        "    -------\n",
        "    Numpy array of IP weights\n",
        "    \n",
        "    \"\"\"\n",
        "    model = sm.Logit(y, X)\n",
        "    res = model.fit()\n",
        "    weights = np.zeros(X.shape[0])\n",
        "    weights[y == 1] = res.predict(X.loc[y == 1])\n",
        "    weights[y == 0] = (1 - res.predict(X.loc[y == 0]))\n",
        "    return weights"
      ],
      "execution_count": 30,
      "outputs": []
    },
    {
      "cell_type": "code",
      "metadata": {
        "colab": {
          "base_uri": "https://localhost:8080/",
          "height": 215
        },
        "id": "AhLY3IN9i-p9",
        "outputId": "0e5a8cf9-d80d-47f4-8c00-80ff7f2df426"
      },
      "source": [
        "binary_dalc = []\n",
        "for amount in data['Dalc']:\n",
        "  if amount < 3:\n",
        "    binary_dalc.append(0)\n",
        "  else:\n",
        "    binary_dalc.append(1)\n",
        "\n",
        "data['binary_Dalc'] = binary_dalc\n",
        "data.head()"
      ],
      "execution_count": 31,
      "outputs": [
        {
          "output_type": "execute_result",
          "data": {
            "text/html": [
              "<div>\n",
              "<style scoped>\n",
              "    .dataframe tbody tr th:only-of-type {\n",
              "        vertical-align: middle;\n",
              "    }\n",
              "\n",
              "    .dataframe tbody tr th {\n",
              "        vertical-align: top;\n",
              "    }\n",
              "\n",
              "    .dataframe thead th {\n",
              "        text-align: right;\n",
              "    }\n",
              "</style>\n",
              "<table border=\"1\" class=\"dataframe\">\n",
              "  <thead>\n",
              "    <tr style=\"text-align: right;\">\n",
              "      <th></th>\n",
              "      <th>sex</th>\n",
              "      <th>address</th>\n",
              "      <th>studytime</th>\n",
              "      <th>failures</th>\n",
              "      <th>schoolsup</th>\n",
              "      <th>famsup</th>\n",
              "      <th>paid</th>\n",
              "      <th>activities</th>\n",
              "      <th>higher</th>\n",
              "      <th>internet</th>\n",
              "      <th>romantic</th>\n",
              "      <th>famrel</th>\n",
              "      <th>freetime</th>\n",
              "      <th>goout</th>\n",
              "      <th>Dalc</th>\n",
              "      <th>Walc</th>\n",
              "      <th>health</th>\n",
              "      <th>absences</th>\n",
              "      <th>G1</th>\n",
              "      <th>G2</th>\n",
              "      <th>G3</th>\n",
              "      <th>constant</th>\n",
              "      <th>activities^2</th>\n",
              "      <th>studytime^2</th>\n",
              "      <th>goout^2</th>\n",
              "      <th>health^2</th>\n",
              "      <th>absences^2</th>\n",
              "      <th>binary_Dalc</th>\n",
              "    </tr>\n",
              "  </thead>\n",
              "  <tbody>\n",
              "    <tr>\n",
              "      <th>0</th>\n",
              "      <td>0</td>\n",
              "      <td>1</td>\n",
              "      <td>2</td>\n",
              "      <td>0</td>\n",
              "      <td>1</td>\n",
              "      <td>0</td>\n",
              "      <td>0</td>\n",
              "      <td>0</td>\n",
              "      <td>1</td>\n",
              "      <td>0</td>\n",
              "      <td>0</td>\n",
              "      <td>4</td>\n",
              "      <td>3</td>\n",
              "      <td>4</td>\n",
              "      <td>1</td>\n",
              "      <td>1</td>\n",
              "      <td>3</td>\n",
              "      <td>6</td>\n",
              "      <td>5</td>\n",
              "      <td>6</td>\n",
              "      <td>6</td>\n",
              "      <td>1</td>\n",
              "      <td>0</td>\n",
              "      <td>4</td>\n",
              "      <td>16</td>\n",
              "      <td>9</td>\n",
              "      <td>36</td>\n",
              "      <td>0</td>\n",
              "    </tr>\n",
              "    <tr>\n",
              "      <th>1</th>\n",
              "      <td>0</td>\n",
              "      <td>1</td>\n",
              "      <td>2</td>\n",
              "      <td>0</td>\n",
              "      <td>0</td>\n",
              "      <td>1</td>\n",
              "      <td>0</td>\n",
              "      <td>0</td>\n",
              "      <td>1</td>\n",
              "      <td>1</td>\n",
              "      <td>0</td>\n",
              "      <td>5</td>\n",
              "      <td>3</td>\n",
              "      <td>3</td>\n",
              "      <td>1</td>\n",
              "      <td>1</td>\n",
              "      <td>3</td>\n",
              "      <td>4</td>\n",
              "      <td>5</td>\n",
              "      <td>5</td>\n",
              "      <td>6</td>\n",
              "      <td>1</td>\n",
              "      <td>0</td>\n",
              "      <td>4</td>\n",
              "      <td>9</td>\n",
              "      <td>9</td>\n",
              "      <td>16</td>\n",
              "      <td>0</td>\n",
              "    </tr>\n",
              "    <tr>\n",
              "      <th>2</th>\n",
              "      <td>0</td>\n",
              "      <td>1</td>\n",
              "      <td>2</td>\n",
              "      <td>3</td>\n",
              "      <td>1</td>\n",
              "      <td>0</td>\n",
              "      <td>1</td>\n",
              "      <td>0</td>\n",
              "      <td>1</td>\n",
              "      <td>1</td>\n",
              "      <td>0</td>\n",
              "      <td>4</td>\n",
              "      <td>3</td>\n",
              "      <td>2</td>\n",
              "      <td>2</td>\n",
              "      <td>3</td>\n",
              "      <td>3</td>\n",
              "      <td>10</td>\n",
              "      <td>7</td>\n",
              "      <td>8</td>\n",
              "      <td>10</td>\n",
              "      <td>1</td>\n",
              "      <td>0</td>\n",
              "      <td>4</td>\n",
              "      <td>4</td>\n",
              "      <td>9</td>\n",
              "      <td>100</td>\n",
              "      <td>0</td>\n",
              "    </tr>\n",
              "    <tr>\n",
              "      <th>3</th>\n",
              "      <td>0</td>\n",
              "      <td>1</td>\n",
              "      <td>3</td>\n",
              "      <td>0</td>\n",
              "      <td>0</td>\n",
              "      <td>1</td>\n",
              "      <td>1</td>\n",
              "      <td>1</td>\n",
              "      <td>1</td>\n",
              "      <td>1</td>\n",
              "      <td>1</td>\n",
              "      <td>3</td>\n",
              "      <td>2</td>\n",
              "      <td>2</td>\n",
              "      <td>1</td>\n",
              "      <td>1</td>\n",
              "      <td>5</td>\n",
              "      <td>2</td>\n",
              "      <td>15</td>\n",
              "      <td>14</td>\n",
              "      <td>15</td>\n",
              "      <td>1</td>\n",
              "      <td>1</td>\n",
              "      <td>9</td>\n",
              "      <td>4</td>\n",
              "      <td>25</td>\n",
              "      <td>4</td>\n",
              "      <td>0</td>\n",
              "    </tr>\n",
              "    <tr>\n",
              "      <th>4</th>\n",
              "      <td>0</td>\n",
              "      <td>1</td>\n",
              "      <td>2</td>\n",
              "      <td>0</td>\n",
              "      <td>0</td>\n",
              "      <td>1</td>\n",
              "      <td>1</td>\n",
              "      <td>0</td>\n",
              "      <td>1</td>\n",
              "      <td>0</td>\n",
              "      <td>0</td>\n",
              "      <td>4</td>\n",
              "      <td>3</td>\n",
              "      <td>2</td>\n",
              "      <td>1</td>\n",
              "      <td>2</td>\n",
              "      <td>5</td>\n",
              "      <td>4</td>\n",
              "      <td>6</td>\n",
              "      <td>10</td>\n",
              "      <td>10</td>\n",
              "      <td>1</td>\n",
              "      <td>0</td>\n",
              "      <td>4</td>\n",
              "      <td>4</td>\n",
              "      <td>25</td>\n",
              "      <td>16</td>\n",
              "      <td>0</td>\n",
              "    </tr>\n",
              "  </tbody>\n",
              "</table>\n",
              "</div>"
            ],
            "text/plain": [
              "   sex  address  studytime  ...  health^2  absences^2  binary_Dalc\n",
              "0    0        1          2  ...         9          36            0\n",
              "1    0        1          2  ...         9          16            0\n",
              "2    0        1          2  ...         9         100            0\n",
              "3    0        1          3  ...        25           4            0\n",
              "4    0        1          2  ...        25          16            0\n",
              "\n",
              "[5 rows x 28 columns]"
            ]
          },
          "metadata": {
            "tags": []
          },
          "execution_count": 31
        }
      ]
    },
    {
      "cell_type": "code",
      "metadata": {
        "colab": {
          "base_uri": "https://localhost:8080/"
        },
        "id": "nkuFgXnmh8z_",
        "outputId": "74f89598-21ed-4f48-f4bb-27a2d0e9fa80"
      },
      "source": [
        "# 'activities', 'studytime', 'goout', 'health', 'absences'\n",
        "\"\"\"\n",
        "X_ip = data[[\n",
        "    'constant',\n",
        "    'sex', 'race', 'age', 'age^2', 'edu_2', 'edu_3', 'edu_4', 'edu_5',\n",
        "    'smokeintensity', 'smokeintensity^2', 'smokeyrs', 'smokeyrs^2', \n",
        "    'exercise_1', 'exercise_2', 'active_1', 'active_2', 'wt71', 'wt71^2'\n",
        "]]\n",
        "\"\"\"\n",
        "\n",
        "X_ip = data[[\n",
        "             'constant', \n",
        "             'activities', 'studytime', 'studytime^2',\n",
        "             'goout', 'goout^2',\n",
        "             'health', 'health^2', \n",
        "             'absences', 'absences^2'\n",
        "]]\n",
        "\n",
        "denoms = logit_ip_f(data.binary_Dalc, X_ip)\n",
        "weights = 1 / denoms"
      ],
      "execution_count": 32,
      "outputs": [
        {
          "output_type": "stream",
          "text": [
            "Optimization terminated successfully.\n",
            "         Current function value: 0.320989\n",
            "         Iterations 8\n"
          ],
          "name": "stdout"
        }
      ]
    },
    {
      "cell_type": "code",
      "metadata": {
        "colab": {
          "base_uri": "https://localhost:8080/"
        },
        "id": "zFvAF2cOieWM",
        "outputId": "2b8e3fbb-3b8c-483b-b28f-1e7ea2d0f78d"
      },
      "source": [
        "print('IP weights')\n",
        "print('   min: {:>5.2f}   expected:  1.05'.format(weights.min()))\n",
        "print('   max: {:>5.2f}   expected: 16.70'.format(weights.max()))\n",
        "print('  mean: {:>5.2f}   expected:  2.00'.format(weights.mean()))"
      ],
      "execution_count": 33,
      "outputs": [
        {
          "output_type": "stream",
          "text": [
            "IP weights\n",
            "   min:  1.00   expected:  1.05\n",
            "   max: 53.42   expected: 16.70\n",
            "  mean:  2.06   expected:  2.00\n"
          ],
          "name": "stdout"
        }
      ]
    },
    {
      "cell_type": "code",
      "metadata": {
        "colab": {
          "base_uri": "https://localhost:8080/",
          "height": 374
        },
        "id": "M0obqFU9jdTi",
        "outputId": "a9911937-39cf-4f85-9d0c-de63adfda69b"
      },
      "source": [
        "fig, ax = plt.subplots(figsize=(8, 6))\n",
        "\n",
        "ax.hist(weights, bins=20);"
      ],
      "execution_count": 34,
      "outputs": [
        {
          "output_type": "display_data",
          "data": {
            "image/png": "[encoded data removed]",
            "text/plain": [
              "<Figure size 576x432 with 1 Axes>"
            ]
          },
          "metadata": {
            "tags": [],
            "needs_background": "light"
          }
        }
      ]
    },
    {
      "cell_type": "code",
      "metadata": {
        "id": "LA3VpdHvjfQt"
      },
      "source": [
        "y = data.G3\n",
        "X = data[['constant', 'binary_Dalc']]"
      ],
      "execution_count": 35,
      "outputs": []
    },
    {
      "cell_type": "code",
      "metadata": {
        "colab": {
          "base_uri": "https://localhost:8080/",
          "height": 78
        },
        "id": "Mw7FUb_ojtv-",
        "outputId": "c5e05a9c-6862-4a49-aaf2-3039d582d1ec"
      },
      "source": [
        "wls = sm.WLS(y, X, weights=weights) \n",
        "res = wls.fit()\n",
        "res.summary().tables[1]"
      ],
      "execution_count": 36,
      "outputs": [
        {
          "output_type": "execute_result",
          "data": {
            "text/html": [
              "<table class=\"simpletable\">\n",
              "<tr>\n",
              "       <td></td>          <th>coef</th>     <th>std err</th>      <th>t</th>      <th>P>|t|</th>  <th>[0.025</th>    <th>0.975]</th>  \n",
              "</tr>\n",
              "<tr>\n",
              "  <th>constant</th>    <td>   10.7483</td> <td>    0.205</td> <td>   52.397</td> <td> 0.000</td> <td>   10.346</td> <td>   11.151</td>\n",
              "</tr>\n",
              "<tr>\n",
              "  <th>binary_Dalc</th> <td>   -0.4076</td> <td>    0.286</td> <td>   -1.425</td> <td> 0.155</td> <td>   -0.969</td> <td>    0.154</td>\n",
              "</tr>\n",
              "</table>"
            ],
            "text/plain": [
              "<class 'statsmodels.iolib.table.SimpleTable'>"
            ]
          },
          "metadata": {
            "tags": []
          },
          "execution_count": 36
        }
      ]
    },
    {
      "cell_type": "code",
      "metadata": {
        "colab": {
          "base_uri": "https://localhost:8080/"
        },
        "id": "JweSHPOmjv65",
        "outputId": "286a4475-8a96-4cec-d70d-99ee17832f95"
      },
      "source": [
        "est = res.params.binary_Dalc\n",
        "conf_ints = res.conf_int(alpha=0.05, cols=None)\n",
        "lo, hi = conf_ints[0]['binary_Dalc'], conf_ints[1]['binary_Dalc']\n",
        "\n",
        "print('           estimate   95% C.I.')\n",
        "print('theta_1     {:>6.2f}   ({:>0.1f}, {:>0.1f})'.format(est, lo, hi))"
      ],
      "execution_count": 37,
      "outputs": [
        {
          "output_type": "stream",
          "text": [
            "           estimate   95% C.I.\n",
            "theta_1      -0.41   (-1.0, 0.2)\n"
          ],
          "name": "stdout"
        }
      ]
    },
    {
      "cell_type": "markdown",
      "metadata": {
        "id": "Omxt4NX_HDyp"
      },
      "source": [
        "Slightly modified, with ONLY studytime and health"
      ]
    },
    {
      "cell_type": "code",
      "metadata": {
        "id": "kp3fwgXhj4z5",
        "colab": {
          "base_uri": "https://localhost:8080/"
        },
        "outputId": "2b215387-d2de-4954-82b4-b3f192b35d77"
      },
      "source": [
        "# 'activities', 'studytime', 'goout', 'health', 'absences'\n",
        "\n",
        "X_ip = data[[\n",
        "             'constant', \n",
        "             'studytime', 'studytime^2',\n",
        "             'health', 'health^2', \n",
        "]]\n",
        "\n",
        "denoms = logit_ip_f(data.binary_Dalc, X_ip)\n",
        "weights = 1 / denoms"
      ],
      "execution_count": 38,
      "outputs": [
        {
          "output_type": "stream",
          "text": [
            "Optimization terminated successfully.\n",
            "         Current function value: 0.351560\n",
            "         Iterations 7\n"
          ],
          "name": "stdout"
        }
      ]
    },
    {
      "cell_type": "code",
      "metadata": {
        "colab": {
          "base_uri": "https://localhost:8080/"
        },
        "id": "fNd-Z8NCHM3q",
        "outputId": "34ca2f9f-c306-43e2-9106-08dd928de0d9"
      },
      "source": [
        "print('IP weights')\n",
        "print('   min: {:>5.2f}   expected:  1.05'.format(weights.min()))\n",
        "print('   max: {:>5.2f}   expected: 16.70'.format(weights.max()))\n",
        "print('  mean: {:>5.2f}   expected:  2.00'.format(weights.mean()))"
      ],
      "execution_count": 39,
      "outputs": [
        {
          "output_type": "stream",
          "text": [
            "IP weights\n",
            "   min:  1.06   expected:  1.05\n",
            "   max: 15.11   expected: 16.70\n",
            "  mean:  1.99   expected:  2.00\n"
          ],
          "name": "stdout"
        }
      ]
    },
    {
      "cell_type": "code",
      "metadata": {
        "colab": {
          "base_uri": "https://localhost:8080/",
          "height": 374
        },
        "id": "NltGzlnlHRHR",
        "outputId": "50987d70-0f89-4531-a725-996bf2edc084"
      },
      "source": [
        "fig, ax = plt.subplots(figsize=(8, 6))\n",
        "\n",
        "ax.hist(weights, bins=20);"
      ],
      "execution_count": 40,
      "outputs": [
        {
          "output_type": "display_data",
          "data": {
            "image/png": "[encoded data removed]",
            "text/plain": [
              "<Figure size 576x432 with 1 Axes>"
            ]
          },
          "metadata": {
            "tags": [],
            "needs_background": "light"
          }
        }
      ]
    },
    {
      "cell_type": "code",
      "metadata": {
        "id": "gTcSykK0HTL0"
      },
      "source": [
        "y = data.G3\n",
        "X = data[['constant', 'binary_Dalc']]"
      ],
      "execution_count": 41,
      "outputs": []
    },
    {
      "cell_type": "code",
      "metadata": {
        "colab": {
          "base_uri": "https://localhost:8080/",
          "height": 78
        },
        "id": "iVAi-V50HU-p",
        "outputId": "27b3295d-4e69-45e0-b13f-83b17228115c"
      },
      "source": [
        "wls = sm.WLS(y, X, weights=weights) \n",
        "res = wls.fit()\n",
        "res.summary().tables[1]"
      ],
      "execution_count": 42,
      "outputs": [
        {
          "output_type": "execute_result",
          "data": {
            "text/html": [
              "<table class=\"simpletable\">\n",
              "<tr>\n",
              "       <td></td>          <th>coef</th>     <th>std err</th>      <th>t</th>      <th>P>|t|</th>  <th>[0.025</th>    <th>0.975]</th>  \n",
              "</tr>\n",
              "<tr>\n",
              "  <th>constant</th>    <td>   10.7469</td> <td>    0.206</td> <td>   52.264</td> <td> 0.000</td> <td>   10.343</td> <td>   11.151</td>\n",
              "</tr>\n",
              "<tr>\n",
              "  <th>binary_Dalc</th> <td>   -0.6476</td> <td>    0.292</td> <td>   -2.219</td> <td> 0.027</td> <td>   -1.221</td> <td>   -0.074</td>\n",
              "</tr>\n",
              "</table>"
            ],
            "text/plain": [
              "<class 'statsmodels.iolib.table.SimpleTable'>"
            ]
          },
          "metadata": {
            "tags": []
          },
          "execution_count": 42
        }
      ]
    },
    {
      "cell_type": "code",
      "metadata": {
        "colab": {
          "base_uri": "https://localhost:8080/"
        },
        "id": "VgZJGH9fHXRe",
        "outputId": "1a3a486d-6075-415a-8ea0-a5497207006a"
      },
      "source": [
        "est = res.params.binary_Dalc\n",
        "conf_ints = res.conf_int(alpha=0.05, cols=None)\n",
        "lo, hi = conf_ints[0]['binary_Dalc'], conf_ints[1]['binary_Dalc']\n",
        "\n",
        "print('           estimate   95% C.I.')\n",
        "print('theta_1     {:>6.2f}   ({:>0.1f}, {:>0.1f})'.format(est, lo, hi))"
      ],
      "execution_count": 43,
      "outputs": [
        {
          "output_type": "stream",
          "text": [
            "           estimate   95% C.I.\n",
            "theta_1      -0.65   (-1.2, -0.1)\n"
          ],
          "name": "stdout"
        }
      ]
    },
    {
      "cell_type": "code",
      "metadata": {
        "id": "mX86x-JyHaR9"
      },
      "source": [
        ""
      ],
      "execution_count": null,
      "outputs": []
    }
  ]
}